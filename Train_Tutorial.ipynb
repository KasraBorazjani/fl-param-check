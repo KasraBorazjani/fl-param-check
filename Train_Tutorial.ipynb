{
 "cells": [
  {
   "cell_type": "markdown",
   "metadata": {},
   "source": [
    "# Decentralized Federated Learning Under Variable Model Inertia and Local Training Length\n",
    "\n",
    "Kasra Borazjani,\n",
    "\n",
    "Electrical Engineering PhD\n",
    "\n",
    "50487575"
   ]
  },
  {
   "cell_type": "markdown",
   "metadata": {},
   "source": [
    "## Environment setup"
   ]
  },
  {
   "cell_type": "code",
   "execution_count": 1,
   "metadata": {},
   "outputs": [
    {
     "name": "stdout",
     "output_type": "stream",
     "text": [
      "Retrieving notices: ...working... done\n",
      "Channels:\n",
      " - pytorch\n",
      " - defaults\n",
      "Platform: osx-arm64\n",
      "Collecting package metadata (repodata.json): done\n",
      "Solving environment: done\n",
      "\n",
      "Downloading and Extracting Packages:\n",
      "pillow-10.4.0        | 736 KB    |                                       |   0% \n",
      "packaging-24.1       | 147 KB    |                                       |   0% \u001b[A\n",
      "\n",
      "zipp-3.20.2          | 27 KB     |                                       |   0% \u001b[A\u001b[A\n",
      "pillow-10.4.0        | 736 KB    | 8                                     |   2% \u001b[A\n",
      "\n",
      "zipp-3.20.2          | 27 KB     | ######################                |  59% \u001b[A\u001b[A\n",
      "\n",
      "zipp-3.20.2          | 27 KB     | ##################################### | 100% \u001b[A\u001b[A\n",
      "                                                                                \u001b[A\n",
      "                                                                                \u001b[A\n",
      "\n",
      "                                                                                \u001b[A\u001b[A\n",
      "Preparing transaction: done\n",
      "Verifying transaction: done\n",
      "Executing transaction: done\n",
      "Installing pip dependencies: \\ Ran pip subprocess with arguments:\n",
      "['/Users/kasraborazjani/opt/miniconda3/envs/ee-595/bin/python', '-m', 'pip', 'install', '-U', '-r', '/Users/kasraborazjani/Desktop/UB/Fall 2023/MTH555/fl-param-check/condaenv.zxn7zo7d.requirements.txt', '--exists-action=b']\n",
      "Pip subprocess output:\n",
      "Collecting contourpy==1.1.1 (from -r /Users/kasraborazjani/Desktop/UB/Fall 2023/MTH555/fl-param-check/condaenv.zxn7zo7d.requirements.txt (line 1))\n",
      "  Using cached contourpy-1.1.1-cp38-cp38-macosx_11_0_arm64.whl.metadata (5.9 kB)\n",
      "Collecting cycler==0.12.1 (from -r /Users/kasraborazjani/Desktop/UB/Fall 2023/MTH555/fl-param-check/condaenv.zxn7zo7d.requirements.txt (line 2))\n",
      "  Using cached cycler-0.12.1-py3-none-any.whl.metadata (3.8 kB)\n",
      "Collecting fonttools==4.44.0 (from -r /Users/kasraborazjani/Desktop/UB/Fall 2023/MTH555/fl-param-check/condaenv.zxn7zo7d.requirements.txt (line 3))\n",
      "  Using cached fonttools-4.44.0-cp38-cp38-macosx_10_9_universal2.whl.metadata (153 kB)\n",
      "Collecting importlib-resources==6.1.1 (from -r /Users/kasraborazjani/Desktop/UB/Fall 2023/MTH555/fl-param-check/condaenv.zxn7zo7d.requirements.txt (line 4))\n",
      "  Using cached importlib_resources-6.1.1-py3-none-any.whl.metadata (4.1 kB)\n",
      "Collecting kiwisolver==1.4.5 (from -r /Users/kasraborazjani/Desktop/UB/Fall 2023/MTH555/fl-param-check/condaenv.zxn7zo7d.requirements.txt (line 5))\n",
      "  Using cached kiwisolver-1.4.5-cp38-cp38-macosx_11_0_arm64.whl.metadata (6.4 kB)\n",
      "Collecting matplotlib==3.7.3 (from -r /Users/kasraborazjani/Desktop/UB/Fall 2023/MTH555/fl-param-check/condaenv.zxn7zo7d.requirements.txt (line 6))\n",
      "  Using cached matplotlib-3.7.3-cp38-cp38-macosx_11_0_arm64.whl.metadata (5.7 kB)\n",
      "Collecting numpy==1.24.4 (from -r /Users/kasraborazjani/Desktop/UB/Fall 2023/MTH555/fl-param-check/condaenv.zxn7zo7d.requirements.txt (line 7))\n",
      "  Using cached numpy-1.24.4-cp38-cp38-macosx_11_0_arm64.whl.metadata (5.6 kB)\n",
      "Collecting packaging==23.2 (from -r /Users/kasraborazjani/Desktop/UB/Fall 2023/MTH555/fl-param-check/condaenv.zxn7zo7d.requirements.txt (line 8))\n",
      "  Using cached packaging-23.2-py3-none-any.whl.metadata (3.2 kB)\n",
      "Collecting pandas==2.0.3 (from -r /Users/kasraborazjani/Desktop/UB/Fall 2023/MTH555/fl-param-check/condaenv.zxn7zo7d.requirements.txt (line 9))\n",
      "  Using cached pandas-2.0.3-cp38-cp38-macosx_11_0_arm64.whl.metadata (18 kB)\n",
      "Collecting pillow==10.1.0 (from -r /Users/kasraborazjani/Desktop/UB/Fall 2023/MTH555/fl-param-check/condaenv.zxn7zo7d.requirements.txt (line 10))\n",
      "  Using cached Pillow-10.1.0-cp38-cp38-macosx_11_0_arm64.whl.metadata (9.5 kB)\n",
      "Collecting pyparsing==3.1.1 (from -r /Users/kasraborazjani/Desktop/UB/Fall 2023/MTH555/fl-param-check/condaenv.zxn7zo7d.requirements.txt (line 11))\n",
      "  Using cached pyparsing-3.1.1-py3-none-any.whl.metadata (5.1 kB)\n",
      "Collecting pyqt5==5.15.10 (from -r /Users/kasraborazjani/Desktop/UB/Fall 2023/MTH555/fl-param-check/condaenv.zxn7zo7d.requirements.txt (line 12))\n",
      "  Using cached PyQt5-5.15.10-cp37-abi3-macosx_11_0_arm64.whl.metadata (2.1 kB)\n",
      "Collecting pyqt5-qt5==5.15.11 (from -r /Users/kasraborazjani/Desktop/UB/Fall 2023/MTH555/fl-param-check/condaenv.zxn7zo7d.requirements.txt (line 13))\n",
      "  Downloading PyQt5_Qt5-5.15.11-1-py3-none-macosx_11_0_arm64.whl.metadata (536 bytes)\n",
      "Collecting pyqt5-sip==12.13.0 (from -r /Users/kasraborazjani/Desktop/UB/Fall 2023/MTH555/fl-param-check/condaenv.zxn7zo7d.requirements.txt (line 14))\n",
      "  Using cached PyQt5_sip-12.13.0-cp38-cp38-macosx_11_0_arm64.whl\n",
      "Collecting pytz==2023.3.post1 (from -r /Users/kasraborazjani/Desktop/UB/Fall 2023/MTH555/fl-param-check/condaenv.zxn7zo7d.requirements.txt (line 15))\n",
      "  Using cached pytz-2023.3.post1-py2.py3-none-any.whl.metadata (22 kB)\n",
      "Collecting tzdata==2023.3 (from -r /Users/kasraborazjani/Desktop/UB/Fall 2023/MTH555/fl-param-check/condaenv.zxn7zo7d.requirements.txt (line 16))\n",
      "  Downloading tzdata-2023.3-py2.py3-none-any.whl.metadata (1.4 kB)\n",
      "Collecting zipp==3.17.0 (from -r /Users/kasraborazjani/Desktop/UB/Fall 2023/MTH555/fl-param-check/condaenv.zxn7zo7d.requirements.txt (line 17))\n",
      "  Using cached zipp-3.17.0-py3-none-any.whl.metadata (3.7 kB)\n",
      "Requirement already satisfied: python-dateutil>=2.7 in /Users/kasraborazjani/opt/miniconda3/envs/ee-595/lib/python3.8/site-packages (from matplotlib==3.7.3->-r /Users/kasraborazjani/Desktop/UB/Fall 2023/MTH555/fl-param-check/condaenv.zxn7zo7d.requirements.txt (line 6)) (2.8.2)\n",
      "Requirement already satisfied: six>=1.5 in /Users/kasraborazjani/opt/miniconda3/envs/ee-595/lib/python3.8/site-packages (from python-dateutil>=2.7->matplotlib==3.7.3->-r /Users/kasraborazjani/Desktop/UB/Fall 2023/MTH555/fl-param-check/condaenv.zxn7zo7d.requirements.txt (line 6)) (1.16.0)\n",
      "Using cached contourpy-1.1.1-cp38-cp38-macosx_11_0_arm64.whl (232 kB)\n",
      "Using cached cycler-0.12.1-py3-none-any.whl (8.3 kB)\n",
      "Using cached fonttools-4.44.0-cp38-cp38-macosx_10_9_universal2.whl (2.7 MB)\n",
      "Using cached importlib_resources-6.1.1-py3-none-any.whl (33 kB)\n",
      "Using cached kiwisolver-1.4.5-cp38-cp38-macosx_11_0_arm64.whl (66 kB)\n",
      "Using cached matplotlib-3.7.3-cp38-cp38-macosx_11_0_arm64.whl (7.3 MB)\n",
      "Using cached numpy-1.24.4-cp38-cp38-macosx_11_0_arm64.whl (13.8 MB)\n",
      "Using cached packaging-23.2-py3-none-any.whl (53 kB)\n",
      "Using cached pandas-2.0.3-cp38-cp38-macosx_11_0_arm64.whl (10.7 MB)\n",
      "Using cached Pillow-10.1.0-cp38-cp38-macosx_11_0_arm64.whl (3.3 MB)\n",
      "Using cached pyparsing-3.1.1-py3-none-any.whl (103 kB)\n",
      "Using cached PyQt5-5.15.10-cp37-abi3-macosx_11_0_arm64.whl (6.6 MB)\n",
      "Downloading PyQt5_Qt5-5.15.11-1-py3-none-macosx_11_0_arm64.whl (36.6 MB)\n",
      "\u001b[2K   \u001b[90m━━━━━━━━━━━━━━━━━━━━━━━━━━━━━━━━━━━━━━━━\u001b[0m \u001b[32m36.6/36.6 MB\u001b[0m \u001b[31m15.3 MB/s\u001b[0m eta \u001b[36m0:00:00\u001b[0m00:01\u001b[0m00:01\u001b[0m\n",
      "\u001b[?25hUsing cached pytz-2023.3.post1-py2.py3-none-any.whl (502 kB)\n",
      "Using cached tzdata-2023.3-py2.py3-none-any.whl (341 kB)\n",
      "Using cached zipp-3.17.0-py3-none-any.whl (7.4 kB)\n",
      "Installing collected packages: pytz, pyqt5-qt5, zipp, tzdata, pyqt5-sip, pyparsing, pillow, packaging, numpy, kiwisolver, fonttools, cycler, pyqt5, pandas, importlib-resources, contourpy, matplotlib\n",
      "  Attempting uninstall: zipp\n",
      "    Found existing installation: zipp 3.20.2\n",
      "    Uninstalling zipp-3.20.2:\n",
      "      Successfully uninstalled zipp-3.20.2\n",
      "  Attempting uninstall: pillow\n",
      "    Found existing installation: pillow 10.4.0\n",
      "    Uninstalling pillow-10.4.0:\n",
      "      Successfully uninstalled pillow-10.4.0\n",
      "  Attempting uninstall: packaging\n",
      "    Found existing installation: packaging 24.1\n",
      "    Uninstalling packaging-24.1:\n",
      "      Successfully uninstalled packaging-24.1\n",
      "  Attempting uninstall: numpy\n",
      "    Found existing installation: numpy 1.24.3\n",
      "    Uninstalling numpy-1.24.3:\n",
      "      Successfully uninstalled numpy-1.24.3\n",
      "Successfully installed contourpy-1.1.1 cycler-0.12.1 fonttools-4.44.0 importlib-resources-6.1.1 kiwisolver-1.4.5 matplotlib-3.7.3 numpy-1.24.4 packaging-23.2 pandas-2.0.3 pillow-10.1.0 pyparsing-3.1.1 pyqt5-5.15.10 pyqt5-qt5-5.15.11 pyqt5-sip-12.13.0 pytz-2023.3.post1 tzdata-2023.3 zipp-3.17.0\n",
      "\n",
      "done\n",
      "#\n",
      "# To activate this environment, use\n",
      "#\n",
      "#     $ conda activate ee-595\n",
      "#\n",
      "# To deactivate an active environment, use\n",
      "#\n",
      "#     $ conda deactivate\n",
      "\n",
      "\n",
      "CondaError: Run 'conda init' before 'conda activate'\n",
      "\n"
     ]
    }
   ],
   "source": [
    "!conda env create --file environment.yml\n",
    "!conda activate ee-595"
   ]
  },
  {
   "cell_type": "markdown",
   "metadata": {},
   "source": [
    "## Training"
   ]
  },
  {
   "cell_type": "markdown",
   "metadata": {},
   "source": [
    "To train for a specific setting, you can input the arguments with '--' behind the argument. You can find the list of arguements by running the cell below:"
   ]
  },
  {
   "cell_type": "code",
   "execution_count": null,
   "metadata": {},
   "outputs": [
    {
     "name": "stdout",
     "output_type": "stream",
     "text": [
      "usage: train.py [-h] [--sgd_per_round SGD_PER_ROUND]\n",
      "                [--num_clients NUM_CLIENTS]\n",
      "                [--neighbors_per_client NEIGHBORS_PER_CLIENT]\n",
      "                [--model_inertia MODEL_INERTIA] [--total_ds_len TOTAL_DS_LEN]\n",
      "                [--primary_label_fraction PRIMARY_LABEL_FRACTION]\n",
      "                [--num_secondaries NUM_SECONDARIES] [--batch_size BATCH_SIZE]\n",
      "                [--shuffle_dataset] [--acc_used] [--random_seed RANDOM_SEED]\n",
      "                [--num_fed_rounds NUM_FED_ROUNDS] [--data_path DATA_PATH]\n",
      "                [--saved_model_path SAVED_MODEL_PATH] [--init_lr INIT_LR]\n",
      "                [--result_path RESULT_PATH]\n",
      "\n",
      "Argparse for learning and network parameters\n",
      "\n",
      "optional arguments:\n",
      "  -h, --help            show this help message and exit\n",
      "  --sgd_per_round SGD_PER_ROUND\n",
      "                        number of local epochs per federated round (default:\n",
      "                        5)\n",
      "  --num_clients NUM_CLIENTS\n",
      "                        number of clients simulated (default: 30)\n",
      "  --neighbors_per_client NEIGHBORS_PER_CLIENT\n",
      "                        number of neighbors per client (default: 5)\n",
      "  --model_inertia MODEL_INERTIA\n",
      "                        inertia for model aggregation (default: 0.05)\n",
      "  --total_ds_len TOTAL_DS_LEN\n",
      "                        total dataset length for each client (default: 300)\n",
      "  --primary_label_fraction PRIMARY_LABEL_FRACTION\n",
      "                        fraction of each client's dataset that is occupied by\n",
      "                        the preferred label (default: 0.75)\n",
      "  --num_secondaries NUM_SECONDARIES\n",
      "                        number of secondary labels (default: 1)\n",
      "  --batch_size BATCH_SIZE\n",
      "                        batch size (default: 16)\n",
      "  --shuffle_dataset     shuffling dataset (default: True)\n",
      "  --acc_used            whether acceleration (GPU/MPS) is used (default:\n",
      "                        False)\n",
      "  --random_seed RANDOM_SEED\n",
      "                        random seed - set manually to adapt repeatability\n",
      "                        (default: 42)\n",
      "  --num_fed_rounds NUM_FED_ROUNDS\n",
      "                        maximum number of federated rounds to run the code for\n",
      "                        (default: 70)\n",
      "  --data_path DATA_PATH\n",
      "                        directory for data to be loaded from\n",
      "  --saved_model_path SAVED_MODEL_PATH\n",
      "                        directory for the saved models to be loaded from\n",
      "  --init_lr INIT_LR     Initial learning rate (default: 1e-2)\n",
      "  --result_path RESULT_PATH\n",
      "                        directory for the results to be stored\n"
     ]
    }
   ],
   "source": [
    "!python train.py -h"
   ]
  },
  {
   "cell_type": "markdown",
   "metadata": {},
   "source": [
    "### Single run"
   ]
  },
  {
   "cell_type": "markdown",
   "metadata": {},
   "source": [
    "You can run for one specific set of parameters by running the train.py file directly, giving the value for each input parameter (or rather using the default one). This functionality can be achieved by running the train file like below, giving the needed parameters if necessary:"
   ]
  },
  {
   "cell_type": "code",
   "execution_count": null,
   "metadata": {},
   "outputs": [],
   "source": [
    "!python train.py --sgd_per_round 5 --model_inertia 0.1"
   ]
  },
  {
   "cell_type": "markdown",
   "metadata": {},
   "source": [
    "### Array run"
   ]
  },
  {
   "cell_type": "markdown",
   "metadata": {},
   "source": [
    "To train for a range of parameters (namely, the sgd_per_round parameter and the model_inertia parameter), you can run the array_run.py file which runs the train.py file with multiple values for the input arguments specified. This feature was not used in the experimentation of our models due to time constraints. Nevertheless, it can be used if necessary, since it is already implemented. The syntax is:\n",
    "\n",
    "python array_run.py --sgd_per_round_range <min max step> --model_inertia_range <min max step> --save_dir <directory/to/results>\n",
    "\n",
    "An example is demonstrated below:"
   ]
  },
  {
   "cell_type": "code",
   "execution_count": null,
   "metadata": {},
   "outputs": [],
   "source": [
    "!python array_run.py --sgd_per_round_range 1 10 1 --model_inertia_range 0.1 0.9 0.1 --save_dir ./results"
   ]
  }
 ],
 "metadata": {
  "kernelspec": {
   "display_name": "mth555-fp",
   "language": "python",
   "name": "python3"
  },
  "language_info": {
   "codemirror_mode": {
    "name": "ipython",
    "version": 3
   },
   "file_extension": ".py",
   "mimetype": "text/x-python",
   "name": "python",
   "nbconvert_exporter": "python",
   "pygments_lexer": "ipython3",
   "version": "3.8.18"
  },
  "orig_nbformat": 4
 },
 "nbformat": 4,
 "nbformat_minor": 2
}
