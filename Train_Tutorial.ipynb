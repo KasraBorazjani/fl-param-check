{
 "cells": [
  {
   "cell_type": "markdown",
   "metadata": {},
   "source": [
    "# Decentralized Federated Learning Under Variable Model Inertia and Local Training Length\n",
    "\n",
    "Kasra Borazjani,\n",
    "\n",
    "Electrical Engineering PhD\n",
    "\n",
    "50487575"
   ]
  },
  {
   "cell_type": "markdown",
   "metadata": {},
   "source": [
    "## Environment setup"
   ]
  },
  {
   "cell_type": "code",
   "execution_count": null,
   "metadata": {},
   "outputs": [],
   "source": [
    "!conda env create --file environment.yml\n",
    "!conda activate mth555-fp"
   ]
  },
  {
   "cell_type": "markdown",
   "metadata": {},
   "source": [
    "## Training"
   ]
  },
  {
   "cell_type": "markdown",
   "metadata": {},
   "source": [
    "To train for a specific setting, you can input the arguments with '--' behind the argument. You can find the list of arguements by running the cell below:"
   ]
  },
  {
   "cell_type": "code",
   "execution_count": null,
   "metadata": {},
   "outputs": [
    {
     "name": "stdout",
     "output_type": "stream",
     "text": [
      "usage: train.py [-h] [--sgd_per_round SGD_PER_ROUND]\n",
      "                [--num_clients NUM_CLIENTS]\n",
      "                [--neighbors_per_client NEIGHBORS_PER_CLIENT]\n",
      "                [--model_inertia MODEL_INERTIA] [--total_ds_len TOTAL_DS_LEN]\n",
      "                [--primary_label_fraction PRIMARY_LABEL_FRACTION]\n",
      "                [--num_secondaries NUM_SECONDARIES] [--batch_size BATCH_SIZE]\n",
      "                [--shuffle_dataset] [--acc_used] [--random_seed RANDOM_SEED]\n",
      "                [--num_fed_rounds NUM_FED_ROUNDS] [--data_path DATA_PATH]\n",
      "                [--saved_model_path SAVED_MODEL_PATH] [--init_lr INIT_LR]\n",
      "                [--result_path RESULT_PATH]\n",
      "\n",
      "Argparse for learning and network parameters\n",
      "\n",
      "optional arguments:\n",
      "  -h, --help            show this help message and exit\n",
      "  --sgd_per_round SGD_PER_ROUND\n",
      "                        number of local epochs per federated round (default:\n",
      "                        5)\n",
      "  --num_clients NUM_CLIENTS\n",
      "                        number of clients simulated (default: 30)\n",
      "  --neighbors_per_client NEIGHBORS_PER_CLIENT\n",
      "                        number of neighbors per client (default: 5)\n",
      "  --model_inertia MODEL_INERTIA\n",
      "                        inertia for model aggregation (default: 0.05)\n",
      "  --total_ds_len TOTAL_DS_LEN\n",
      "                        total dataset length for each client (default: 300)\n",
      "  --primary_label_fraction PRIMARY_LABEL_FRACTION\n",
      "                        fraction of each client's dataset that is occupied by\n",
      "                        the preferred label (default: 0.75)\n",
      "  --num_secondaries NUM_SECONDARIES\n",
      "                        number of secondary labels (default: 1)\n",
      "  --batch_size BATCH_SIZE\n",
      "                        batch size (default: 16)\n",
      "  --shuffle_dataset     shuffling dataset (default: True)\n",
      "  --acc_used            whether acceleration (GPU/MPS) is used (default:\n",
      "                        False)\n",
      "  --random_seed RANDOM_SEED\n",
      "                        random seed - set manually to adapt repeatability\n",
      "                        (default: 42)\n",
      "  --num_fed_rounds NUM_FED_ROUNDS\n",
      "                        maximum number of federated rounds to run the code for\n",
      "                        (default: 70)\n",
      "  --data_path DATA_PATH\n",
      "                        directory for data to be loaded from\n",
      "  --saved_model_path SAVED_MODEL_PATH\n",
      "                        directory for the saved models to be loaded from\n",
      "  --init_lr INIT_LR     Initial learning rate (default: 1e-2)\n",
      "  --result_path RESULT_PATH\n",
      "                        directory for the results to be stored\n"
     ]
    }
   ],
   "source": [
    "!python train.py -h"
   ]
  },
  {
   "cell_type": "markdown",
   "metadata": {},
   "source": [
    "### Single run"
   ]
  },
  {
   "cell_type": "markdown",
   "metadata": {},
   "source": [
    "You can run for one specific set of parameters by running the train.py file directly, giving the value for each input parameter (or rather using the default one). This functionality can be achieved by running the train file like below, giving the needed parameters if necessary:"
   ]
  },
  {
   "cell_type": "code",
   "execution_count": null,
   "metadata": {},
   "outputs": [],
   "source": [
    "!python train.py --sgd_per_round 5 --model_inertia 0.1"
   ]
  },
  {
   "cell_type": "markdown",
   "metadata": {},
   "source": [
    "### Array run"
   ]
  },
  {
   "cell_type": "markdown",
   "metadata": {},
   "source": [
    "To train for a range of parameters (namely, the sgd_per_round parameter and the model_inertia parameter), you can run the array_run.py file which runs the train.py file with multiple values for the input arguments specified. This feature was not used in the experimentation of our models due to time constraints. Nevertheless, it can be used if necessary, since it is already implemented. The syntax is:\n",
    "\n",
    "python array_run.py --sgd_per_round_range <min max step> --model_inertia_range <min max step> --save_dir <directory/to/results>\n",
    "\n",
    "An example is demonstrated below:"
   ]
  },
  {
   "cell_type": "code",
   "execution_count": null,
   "metadata": {},
   "outputs": [],
   "source": [
    "!python array_run.py --sgd_per_round_range 1 10 1 --model_inertia_range 0.1 0.9 0.1 --save_dir ./results"
   ]
  }
 ],
 "metadata": {
  "kernelspec": {
   "display_name": "Python 3.8.18 ('mth555-fp')",
   "language": "python",
   "name": "python3"
  },
  "language_info": {
   "codemirror_mode": {
    "name": "ipython",
    "version": 3
   },
   "file_extension": ".py",
   "mimetype": "text/x-python",
   "name": "python",
   "nbconvert_exporter": "python",
   "pygments_lexer": "ipython3",
   "version": "3.8.18"
  },
  "orig_nbformat": 4,
  "vscode": {
   "interpreter": {
    "hash": "11b3f7d15bc931bd07ffc1df2d58cddf81ad17161371d834fccf8aa0d829f10b"
   }
  }
 },
 "nbformat": 4,
 "nbformat_minor": 2
}
